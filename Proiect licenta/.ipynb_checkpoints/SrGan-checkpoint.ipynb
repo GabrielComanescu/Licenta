{
 "cells": [
  {
   "cell_type": "code",
   "execution_count": 1,
   "metadata": {},
   "outputs": [],
   "source": [
    "import torch\n",
    "import torch.nn as nn\n",
    "import torch.nn.functional as F\n",
    "from torch.utils.data import DataLoader\n",
    "from torchvision import datasets, transforms, models\n",
    "from torchvision.utils import make_grid\n",
    "import torchvision.utils as vutils\n",
    "import os\n",
    "\n",
    "\n",
    "import numpy as np\n",
    "import pandas as pd\n",
    "import matplotlib.pyplot as plt\n",
    "%matplotlib inline\n",
    "\n",
    "# import warnings\n",
    "# warnings.filterwarnings(\"ignore\")"
   ]
  },
  {
   "cell_type": "code",
   "execution_count": 2,
   "metadata": {},
   "outputs": [],
   "source": [
    "# UTILS\n",
    "\n",
    "from os import listdir\n",
    "from os.path import join\n",
    "\n",
    "from PIL import Image\n",
    "from torch.utils.data.dataset import Dataset\n",
    "\n",
    "\n",
    "def is_image_file(filename):\n",
    "    return any(filename.endswith(extension) for extension in ['.png', '.jpg', '.jpeg', '.PNG', '.JPG', '.JPEG'])\n",
    "\n",
    "def calculate_valid_crop_size(crop_size, upscale_factor):\n",
    "    return crop_size - (crop_size % upscale_factor)\n",
    "\n",
    "def train_hr_transform(crop_size):\n",
    "    return transforms.Compose([\n",
    "        transforms.RandomCrop(crop_size),\n",
    "        transforms.ToTensor()])\n",
    "\n",
    "def train_lr_transform(crop_size, upscale_factor):\n",
    "    return transforms.Compose([\n",
    "        transforms.ToPILImage(),\n",
    "        transforms.Resize(crop_size // upscale_factor, interpolation = Image.BICUBIC),\n",
    "        transforms.ToTensor()\n",
    "    ])\n",
    "\n",
    "def display_transform():\n",
    "    return transforms.Compose([\n",
    "        transforms.ToPILImage(),\n",
    "        transforms.Resize(400),\n",
    "        transforms.CenterCrop(400),\n",
    "        transforms.ToTensor()\n",
    "    ])\n",
    "\n",
    "class TrainDatasetFromFolder(Dataset):\n",
    "    def __init__(self, dataset_dir, crop_size, upscale_factor):\n",
    "        super(TrainDatasetFromFolder, self).__init__()\n",
    "        self.image_filenames = [join(dataset_dir, x) for x in listdir(dataset_dir) if is_image_file(x)]\n",
    "        crop_size = calculate_valid_crop_size(crop_size, upscale_factor)\n",
    "        self.hr_transform = train_hr_transform(crop_size)\n",
    "        self.lr_transform = train_lr_transform(crop_size, upscale_factor)\n",
    "        \n",
    "    def __getitem__(self, index):\n",
    "        hr_image = self.hr_transform(Image.open(self.image_filenames[index]))\n",
    "        lr_image = self.lr_transform(hr_image)\n",
    "        return lr_image, hr_image\n",
    "    \n",
    "    def __len__(self):\n",
    "        return len(self.image_filenames)\n",
    "    \n",
    "class ValDatasetFromFolder(Dataset):\n",
    "    def __init__(self, dataset_dir, upscale_factor):\n",
    "        super(ValDatasetFromFolder, self).__init__()\n",
    "        self.upscale_factor = upscale_factor\n",
    "        self.image_filenames = [join(dataset_dir, x) for x in listdir(dataset_dir) if is_image_file(x)]\n",
    "        \n",
    "    def __getitem__(self, index):\n",
    "        hr_image = Image.open(self.image_filenames[index])\n",
    "        w, h = hr_image.size\n",
    "        crop_size = calculate_valid_crop_size(min(w,h),self.upscale_factor)\n",
    "        lr_scale = transforms.Resize(crop_size // self.upscale_factor, interpolation = Image.BICUBIC)\n",
    "        hr_scale = transforms.Resize(crop_size, interpolation = Image.BICUBIC)\n",
    "        hr_image = transforms.CenterCrop(crop_size)(hr_image)\n",
    "        lr_image = lr_scale(hr_image)\n",
    "        hr_restore_img = hr_scale(lr_image)\n",
    "        return transforms.ToTensor()(lr_image), transforms.ToTensor()(hr_restore_img), transforms.ToTensor()(hr_image)\n",
    "    \n",
    "    def __len__(self):\n",
    "        return len(self.image_filenames)\n",
    "    \n",
    "class TestDatasetFromFolder(Dataset):\n",
    "    def __init__(self, dataset_dir, upscale_factor):\n",
    "        super(TestDatasetFromFolder, self).__init__()\n",
    "        self.lr_path = dataset_dir + '/SRF_' + str(upscale_factor) + '/data/'\n",
    "        self.hr_path = dataset_dir + '/SRF_' + str(upscale_factor) + '/target/'\n",
    "        self.upscale_factor = upscale_factor\n",
    "        self.lr_filenames = [join(self.lr_path, x) for x in listdir(self.lr_path) if is_image_file(x)]\n",
    "        self.hr_filenames = [join(self.hr_path, x) for x in listdir(self.hr_path) if is_image_file(x)]\n",
    "        \n",
    "    def __getitem__(self, index):\n",
    "        image_name = self.lr_filenames[index].split('/')[-1]\n",
    "        lr_image = Image.open(self.lr_filenames[index])\n",
    "        w,h = lr_image_size\n",
    "        hr_image = Image.open(self.hr_filenames[index])\n",
    "        hr_scale = transforms.Resize((self.upscale_factor * h, self.upscale_factor * w), interpolation=Image.BICUBIC)\n",
    "        hr_restore_img = hr_scale(lr_image)\n",
    "        return image_name, transforms.ToTensor()(lr_image), transforms.ToTensor()(hr_restore_img), transforms.ToTensor()(hr_image)\n",
    "        "
   ]
  },
  {
   "cell_type": "code",
   "execution_count": 3,
   "metadata": {
    "scrolled": true
   },
   "outputs": [
    {
     "name": "stdout",
     "output_type": "stream",
     "text": [
      "GeneratorLoss(\n",
      "  (loss_network): Sequential(\n",
      "    (0): Conv2d(3, 64, kernel_size=(3, 3), stride=(1, 1), padding=(1, 1))\n",
      "    (1): ReLU(inplace=True)\n",
      "    (2): Conv2d(64, 64, kernel_size=(3, 3), stride=(1, 1), padding=(1, 1))\n",
      "    (3): ReLU(inplace=True)\n",
      "    (4): MaxPool2d(kernel_size=2, stride=2, padding=0, dilation=1, ceil_mode=False)\n",
      "    (5): Conv2d(64, 128, kernel_size=(3, 3), stride=(1, 1), padding=(1, 1))\n",
      "    (6): ReLU(inplace=True)\n",
      "    (7): Conv2d(128, 128, kernel_size=(3, 3), stride=(1, 1), padding=(1, 1))\n",
      "    (8): ReLU(inplace=True)\n",
      "    (9): MaxPool2d(kernel_size=2, stride=2, padding=0, dilation=1, ceil_mode=False)\n",
      "    (10): Conv2d(128, 256, kernel_size=(3, 3), stride=(1, 1), padding=(1, 1))\n",
      "    (11): ReLU(inplace=True)\n",
      "    (12): Conv2d(256, 256, kernel_size=(3, 3), stride=(1, 1), padding=(1, 1))\n",
      "    (13): ReLU(inplace=True)\n",
      "    (14): Conv2d(256, 256, kernel_size=(3, 3), stride=(1, 1), padding=(1, 1))\n",
      "    (15): ReLU(inplace=True)\n",
      "    (16): Conv2d(256, 256, kernel_size=(3, 3), stride=(1, 1), padding=(1, 1))\n",
      "    (17): ReLU(inplace=True)\n",
      "    (18): MaxPool2d(kernel_size=2, stride=2, padding=0, dilation=1, ceil_mode=False)\n",
      "    (19): Conv2d(256, 512, kernel_size=(3, 3), stride=(1, 1), padding=(1, 1))\n",
      "    (20): ReLU(inplace=True)\n",
      "    (21): Conv2d(512, 512, kernel_size=(3, 3), stride=(1, 1), padding=(1, 1))\n",
      "    (22): ReLU(inplace=True)\n",
      "    (23): Conv2d(512, 512, kernel_size=(3, 3), stride=(1, 1), padding=(1, 1))\n",
      "    (24): ReLU(inplace=True)\n",
      "    (25): Conv2d(512, 512, kernel_size=(3, 3), stride=(1, 1), padding=(1, 1))\n",
      "    (26): ReLU(inplace=True)\n",
      "    (27): MaxPool2d(kernel_size=2, stride=2, padding=0, dilation=1, ceil_mode=False)\n",
      "    (28): Conv2d(512, 512, kernel_size=(3, 3), stride=(1, 1), padding=(1, 1))\n",
      "    (29): ReLU(inplace=True)\n",
      "    (30): Conv2d(512, 512, kernel_size=(3, 3), stride=(1, 1), padding=(1, 1))\n",
      "  )\n",
      "  (mse_loss): MSELoss()\n",
      "  (tv_loss): TVLoss()\n",
      ")\n"
     ]
    }
   ],
   "source": [
    "# LOSS\n",
    "\n",
    "from torchvision.models.vgg import vgg19\n",
    "\n",
    "\n",
    "class GeneratorLoss(nn.Module):\n",
    "    def __init__(self):\n",
    "        super(GeneratorLoss, self).__init__()\n",
    "        vgg = vgg19(pretrained = True)\n",
    "        loss_network = nn.Sequential(*list(vgg.features)[:31]).eval()\n",
    "        for param in loss_network.parameters():\n",
    "            param.requires_grad = False\n",
    "        self.loss_network = loss_network\n",
    "        self.mse_loss = nn.MSELoss()\n",
    "        self.tv_loss = TVLoss()\n",
    "        \n",
    "    def forward(self, out_labels, out_images, target_images):\n",
    "        adversarial_loss = torch.mean(1 - out_labels)\n",
    "        perception_loss = self.mse_loss(self.loss_network(out_images), self.loss_network(target_images))\n",
    "        image_loss = self.mse_loss(out_images, target_images)\n",
    "        tv_loss = self.tv_loss(out_images)\n",
    "        return image_loss + 0.001 * adversarial_loss + 0.006 * perception_loss + 2e-8 * tv_loss\n",
    "    \n",
    "class TVLoss(nn.Module):\n",
    "    def __init__(self, tv_loss_weight=1):\n",
    "        super(TVLoss, self).__init__()\n",
    "        self.tv_loss_weight = tv_loss_weight\n",
    "        \n",
    "    def forward(self, x):\n",
    "        batch_size = x.size()[0]\n",
    "        h_x = x.size()[2]\n",
    "        w_x = x.size()[3]\n",
    "        count_h = self.tensor_size(x[:,:,1:,:])\n",
    "        count_w = self.tensor_size(x[:,:,:,1:])\n",
    "        h_tv = torch.pow((x[:,:,1:,:] - x[:,:,:h_x - 1,:]),2).sum()\n",
    "        w_tv = torch.pow((x[:,:,:,1:] - x[:,:,:,:w_x - 1]),2).sum()\n",
    "        return self.tv_loss_weight * 2 * (h_tv / count_h + w_tv / count_w) / batch_size\n",
    "    \n",
    "    @staticmethod\n",
    "    def tensor_size(t):\n",
    "        return t.size()[1] * t.size()[2] * t.size()[3]\n",
    "    \n",
    "if __name__ == \"__main__\":\n",
    "    g_loss = GeneratorLoss()\n",
    "    print(g_loss)"
   ]
  },
  {
   "cell_type": "code",
   "execution_count": 4,
   "metadata": {},
   "outputs": [],
   "source": [
    "# RESIDUAL BLOCK\n",
    "\n",
    "class ResidualBlock(nn.Module):\n",
    "    def __init__(self, channels):\n",
    "        super(ResidualBlock, self).__init__()\n",
    "        self.conv1 = nn.Conv2d(channels,channels, kernel_size=3,padding=1)\n",
    "        self.bn1 = nn.BatchNorm2d(channels)\n",
    "        self.prelu = nn.PReLU()\n",
    "        self.conv2 = nn.Conv2d(channels, channels, kernel_size=3,padding=1)\n",
    "        self.bn2 = nn.BatchNorm2d(channels)\n",
    "        \n",
    "    def forward(self,x):\n",
    "        residual = self.conv1(x)\n",
    "        residual = self.bn1(residual)\n",
    "        residual = self.prelu(residual)\n",
    "        residual = self.conv2(residual)\n",
    "        residual = self.bn2(residual)\n",
    "        \n",
    "        return x + residual\n",
    "    \n",
    "    \n",
    "    \n",
    "# UPSAMPLE BLOCK\n",
    "\n",
    "class UpsampleBlock(nn.Module):\n",
    "    def __init__(self,in_channels, up_scale):\n",
    "        super(UpsampleBlock, self).__init__()\n",
    "        self.conv = nn.Conv2d(in_channels,in_channels * up_scale ** 2, kernel_size=3, padding=1)\n",
    "        self.pixel_shuffle = nn.PixelShuffle(up_scale)\n",
    "        self.prelu = nn.PReLU()\n",
    "        \n",
    "    def forward(self, x):\n",
    "        x = self.conv(x)\n",
    "        x = self.pixel_shuffle(x)\n",
    "        self.prelu(x)\n",
    "        return x\n",
    "    \n",
    "    \n",
    "    \n",
    "# GENERATOR\n",
    "\n",
    "import math\n",
    "\n",
    "\n",
    "class Generator(nn.Module):\n",
    "    \n",
    "    def __init__(self, scale_factor):\n",
    "        upsample_block_num = int(math.log(scale_factor,2))\n",
    "        \n",
    "        super(Generator, self).__init__()\n",
    "        \n",
    "        self.block1 = nn.Sequential(nn.Conv2d(3,64,kernel_size=9,padding=4),nn.PReLU())\n",
    "        self.block2 = ResidualBlock(64)\n",
    "        self.block3 = ResidualBlock(64)\n",
    "        self.block4 = ResidualBlock(64)\n",
    "        self.block5 = ResidualBlock(64)\n",
    "        self.block6 = ResidualBlock(64)\n",
    "        self.block7 = nn.Sequential(nn.Conv2d(64,64,kernel_size=3,padding=1), nn.BatchNorm2d(64))\n",
    "        block8 = [UpsampleBlock(64, 2) for _ in range(upsample_block_num)]\n",
    "        block8.append(nn.Conv2d(64,3,kernel_size=9,padding=4))\n",
    "        self.block8 = nn.Sequential(*block8)\n",
    "        \n",
    "    def forward(self, x):\n",
    "        block1 = self.block1(x)\n",
    "        block2 = self.block2(block1)\n",
    "        block3 = self.block3(block2)\n",
    "        block4 = self.block4(block3)\n",
    "        block5 = self.block5(block4)\n",
    "        block6 = self.block6(block5)\n",
    "        block7 = self.block7(block6)\n",
    "        block8 = self.block8(block1 + block7)\n",
    "        \n",
    "        return (torch.tanh(block8) + 1) / 2\n",
    "\n",
    "\n",
    "    \n",
    "    \n",
    "# DISCRIMINATOR\n",
    "\n",
    "class Discriminator(nn.Module):\n",
    "    def __init__(self):\n",
    "        super(Discriminator,self).__init__()\n",
    "        self.net = nn.Sequential(nn.Conv2d(3,64,kernel_size=3,padding=1),\n",
    "                                 nn.LeakyReLU(0.2),\n",
    "                                 \n",
    "                                nn.Conv2d(64,64,kernel_size=3,stride=2,padding=1),\n",
    "                                nn.BatchNorm2d(64), \n",
    "                                nn.LeakyReLU(0.2),\n",
    "                                \n",
    "                                nn.Conv2d(64,128,kernel_size=3,padding=1),\n",
    "                                nn.BatchNorm2d(128), \n",
    "                                nn.LeakyReLU(0.2),\n",
    "                                 \n",
    "                                nn.Conv2d(128,128,kernel_size=3,stride=2,padding=1),\n",
    "                                nn.BatchNorm2d(128), \n",
    "                                nn.LeakyReLU(0.2),\n",
    "                                 \n",
    "                                nn.Conv2d(128,256,kernel_size=3,padding=1),\n",
    "                                nn.BatchNorm2d(256), \n",
    "                                nn.LeakyReLU(0.2),\n",
    "                                 \n",
    "                                nn.Conv2d(256,256,kernel_size=3,stride=2,padding=1),\n",
    "                                nn.BatchNorm2d(256), \n",
    "                                nn.LeakyReLU(0.2),\n",
    "                                 \n",
    "                                nn.Conv2d(256,512,kernel_size=3,padding=1),\n",
    "                                nn.BatchNorm2d(512), \n",
    "                                nn.LeakyReLU(0.2),\n",
    "                                 \n",
    "                                nn.Conv2d(512,512,kernel_size=3,stride=2,padding=1),\n",
    "                                nn.BatchNorm2d(512), \n",
    "                                nn.LeakyReLU(0.2),\n",
    "                                 \n",
    "                                nn.AdaptiveAvgPool2d(1),\n",
    "                                nn.Conv2d(512,1024,kernel_size=1),\n",
    "                                nn.LeakyReLU(0.2),\n",
    "                                nn.Conv2d(1024,1,kernel_size=1)\n",
    "                                )\n",
    "        \n",
    "    def forward(self, x):\n",
    "        batch_size = x.size(0)\n",
    "        return torch.sigmoid(self.net(x).view(batch_size))"
   ]
  },
  {
   "cell_type": "code",
   "execution_count": 6,
   "metadata": {},
   "outputs": [
    {
     "name": "stdout",
     "output_type": "stream",
     "text": [
      "# generator parameters: 586506\n",
      "# discriminator parameters: 5215425\n"
     ]
    }
   ],
   "source": [
    "# netG = Generator(2)\n",
    "# print('# generator parameters:', sum(param.numel() for param in netG.parameters()))\n",
    "# netD = Discriminator()\n",
    "# print('# discriminator parameters:', sum(param.numel() for param in netD.parameters()))\n",
    "\n",
    "# generator_criterion = GeneratorLoss()\n",
    "\n",
    "# if torch.cuda.is_available():\n",
    "#     netG.cuda()\n",
    "#     netD.cuda()\n",
    "#     generator_criterion.cuda()"
   ]
  },
  {
   "cell_type": "code",
   "execution_count": 5,
   "metadata": {},
   "outputs": [
    {
     "data": {
      "text/plain": [
       "GeneratorLoss(\n",
       "  (loss_network): Sequential(\n",
       "    (0): Conv2d(3, 64, kernel_size=(3, 3), stride=(1, 1), padding=(1, 1))\n",
       "    (1): ReLU(inplace=True)\n",
       "    (2): Conv2d(64, 64, kernel_size=(3, 3), stride=(1, 1), padding=(1, 1))\n",
       "    (3): ReLU(inplace=True)\n",
       "    (4): MaxPool2d(kernel_size=2, stride=2, padding=0, dilation=1, ceil_mode=False)\n",
       "    (5): Conv2d(64, 128, kernel_size=(3, 3), stride=(1, 1), padding=(1, 1))\n",
       "    (6): ReLU(inplace=True)\n",
       "    (7): Conv2d(128, 128, kernel_size=(3, 3), stride=(1, 1), padding=(1, 1))\n",
       "    (8): ReLU(inplace=True)\n",
       "    (9): MaxPool2d(kernel_size=2, stride=2, padding=0, dilation=1, ceil_mode=False)\n",
       "    (10): Conv2d(128, 256, kernel_size=(3, 3), stride=(1, 1), padding=(1, 1))\n",
       "    (11): ReLU(inplace=True)\n",
       "    (12): Conv2d(256, 256, kernel_size=(3, 3), stride=(1, 1), padding=(1, 1))\n",
       "    (13): ReLU(inplace=True)\n",
       "    (14): Conv2d(256, 256, kernel_size=(3, 3), stride=(1, 1), padding=(1, 1))\n",
       "    (15): ReLU(inplace=True)\n",
       "    (16): Conv2d(256, 256, kernel_size=(3, 3), stride=(1, 1), padding=(1, 1))\n",
       "    (17): ReLU(inplace=True)\n",
       "    (18): MaxPool2d(kernel_size=2, stride=2, padding=0, dilation=1, ceil_mode=False)\n",
       "    (19): Conv2d(256, 512, kernel_size=(3, 3), stride=(1, 1), padding=(1, 1))\n",
       "    (20): ReLU(inplace=True)\n",
       "    (21): Conv2d(512, 512, kernel_size=(3, 3), stride=(1, 1), padding=(1, 1))\n",
       "    (22): ReLU(inplace=True)\n",
       "    (23): Conv2d(512, 512, kernel_size=(3, 3), stride=(1, 1), padding=(1, 1))\n",
       "    (24): ReLU(inplace=True)\n",
       "    (25): Conv2d(512, 512, kernel_size=(3, 3), stride=(1, 1), padding=(1, 1))\n",
       "    (26): ReLU(inplace=True)\n",
       "    (27): MaxPool2d(kernel_size=2, stride=2, padding=0, dilation=1, ceil_mode=False)\n",
       "    (28): Conv2d(512, 512, kernel_size=(3, 3), stride=(1, 1), padding=(1, 1))\n",
       "    (29): ReLU(inplace=True)\n",
       "    (30): Conv2d(512, 512, kernel_size=(3, 3), stride=(1, 1), padding=(1, 1))\n",
       "  )\n",
       "  (mse_loss): MSELoss()\n",
       "  (tv_loss): TVLoss()\n",
       ")"
      ]
     },
     "execution_count": 5,
     "metadata": {},
     "output_type": "execute_result"
    }
   ],
   "source": [
    "netG = Generator(2).eval()\n",
    "netG.cuda()\n",
    "netG.load_state_dict(torch.load('modele/' + 'netG_epoch.pth'))\n",
    "\n",
    "netD = Discriminator().eval()\n",
    "netD.cuda()\n",
    "netD.load_state_dict(torch.load('modele/' + 'netD_epoch.pth'))\n",
    "\n",
    "generator_criterion = GeneratorLoss()\n",
    "generator_criterion.cuda()"
   ]
  },
  {
   "cell_type": "code",
   "execution_count": 6,
   "metadata": {},
   "outputs": [
    {
     "name": "stderr",
     "output_type": "stream",
     "text": [
      "[1/100] Loss_D: 1.0000 Loss_G: 0.0072 D(x): 0.0000 D(G(z)): 0.0000: 100%|████████████| 857/857 [08:36<00:00,  1.66it/s]\n",
      "  0%|                                                                                          | 0/857 [00:00<?, ?it/s]"
     ]
    },
    {
     "name": "stdout",
     "output_type": "stream",
     "text": [
      "8.60564798116684\n",
      "   Loss_D    Loss_G       Score_D       Score_G\n",
      "1     1.0  0.007228  7.402976e-40  2.497974e-42\n"
     ]
    },
    {
     "name": "stderr",
     "output_type": "stream",
     "text": [
      "[2/100] Loss_D: 1.0000 Loss_G: 0.0074 D(x): 0.0000 D(G(z)): 0.0000: 100%|████████████| 857/857 [08:34<00:00,  1.67it/s]\n",
      "  0%|                                                                                          | 0/857 [00:00<?, ?it/s]"
     ]
    },
    {
     "name": "stdout",
     "output_type": "stream",
     "text": [
      "17.185367051760355\n",
      "   Loss_D    Loss_G       Score_D       Score_G\n",
      "2     1.0  0.007368  8.685942e-40  9.196542e-40\n"
     ]
    },
    {
     "name": "stderr",
     "output_type": "stream",
     "text": [
      "[3/100] Loss_D: 1.0000 Loss_G: 0.0071 D(x): 0.0000 D(G(z)): 0.0000: 100%|████████████| 857/857 [08:34<00:00,  1.67it/s]\n",
      "  0%|                                                                                          | 0/857 [00:00<?, ?it/s]"
     ]
    },
    {
     "name": "stdout",
     "output_type": "stream",
     "text": [
      "25.766096754868826\n",
      "   Loss_D    Loss_G       Score_D       Score_G\n",
      "3     1.0  0.007134  4.300091e-42  4.045496e-41\n"
     ]
    },
    {
     "name": "stderr",
     "output_type": "stream",
     "text": [
      "[4/100] Loss_D: 1.0000 Loss_G: 0.0071 D(x): 0.0000 D(G(z)): 0.0000: 100%|████████████| 857/857 [08:34<00:00,  1.67it/s]\n",
      "  0%|                                                                                          | 0/857 [00:00<?, ?it/s]"
     ]
    },
    {
     "name": "stdout",
     "output_type": "stream",
     "text": [
      "34.347012253602344\n",
      "   Loss_D    Loss_G       Score_D  Score_G\n",
      "4     1.0  0.007146  7.044446e-43      0.0\n"
     ]
    },
    {
     "name": "stderr",
     "output_type": "stream",
     "text": [
      "[5/100] Loss_D: 1.0000 Loss_G: 0.0071 D(x): 0.0000 D(G(z)): 0.0000: 100%|████████████| 857/857 [08:34<00:00,  1.66it/s]\n",
      "  0%|                                                                                          | 0/857 [00:00<?, ?it/s]"
     ]
    },
    {
     "name": "stdout",
     "output_type": "stream",
     "text": [
      "42.93136450052261\n",
      "   Loss_D    Loss_G       Score_D       Score_G\n",
      "5     1.0  0.007113  2.463566e-36  2.619517e-37\n"
     ]
    },
    {
     "name": "stderr",
     "output_type": "stream",
     "text": [
      "[6/100] Loss_D: 1.0000 Loss_G: 0.0072 D(x): 0.0000 D(G(z)): 0.0000: 100%|████████████| 857/857 [08:34<00:00,  1.66it/s]\n",
      "  0%|                                                                                          | 0/857 [00:00<?, ?it/s]"
     ]
    },
    {
     "name": "stdout",
     "output_type": "stream",
     "text": [
      "51.51455172697703\n",
      "   Loss_D    Loss_G       Score_D       Score_G\n",
      "6     1.0  0.007246  1.328660e-32  1.928487e-31\n"
     ]
    },
    {
     "name": "stderr",
     "output_type": "stream",
     "text": [
      "[7/100] Loss_D: 1.0000 Loss_G: 0.0078 D(x): 0.0000 D(G(z)): 0.0000: 100%|████████████| 857/857 [08:34<00:00,  1.66it/s]\n",
      "  0%|                                                                                          | 0/857 [00:00<?, ?it/s]"
     ]
    },
    {
     "name": "stdout",
     "output_type": "stream",
     "text": [
      "60.097545560201006\n",
      "   Loss_D    Loss_G       Score_D       Score_G\n",
      "7     1.0  0.007768  1.653347e-29  1.017945e-29\n"
     ]
    },
    {
     "name": "stderr",
     "output_type": "stream",
     "text": [
      "[8/100] Loss_D: 1.0000 Loss_G: 0.0070 D(x): 0.0000 D(G(z)): 0.0000: 100%|████████████| 857/857 [08:35<00:00,  1.66it/s]\n",
      "  0%|                                                                                          | 0/857 [00:00<?, ?it/s]"
     ]
    },
    {
     "name": "stdout",
     "output_type": "stream",
     "text": [
      "68.68549049695334\n",
      "   Loss_D    Loss_G       Score_D       Score_G\n",
      "8     1.0  0.007032  4.187480e-39  2.263933e-40\n"
     ]
    },
    {
     "name": "stderr",
     "output_type": "stream",
     "text": [
      "[9/100] Loss_D: 1.0000 Loss_G: 0.0071 D(x): 0.0000 D(G(z)): 0.0000: 100%|████████████| 857/857 [08:35<00:00,  1.66it/s]\n",
      "  0%|                                                                                          | 0/857 [00:00<?, ?it/s]"
     ]
    },
    {
     "name": "stdout",
     "output_type": "stream",
     "text": [
      "77.27568796475728\n",
      "   Loss_D    Loss_G       Score_D       Score_G\n",
      "9     1.0  0.007112  3.062638e-36  2.991137e-36\n"
     ]
    },
    {
     "name": "stderr",
     "output_type": "stream",
     "text": [
      "[10/100] Loss_D: 1.0000 Loss_G: 0.0072 D(x): 0.0000 D(G(z)): 0.0000: 100%|███████████| 857/857 [08:34<00:00,  1.66it/s]\n",
      "  0%|                                                                                          | 0/857 [00:00<?, ?it/s]"
     ]
    },
    {
     "name": "stdout",
     "output_type": "stream",
     "text": [
      "85.8615941842397\n",
      "    Loss_D    Loss_G       Score_D       Score_G\n",
      "10     1.0  0.007177  1.916537e-26  1.229397e-26\n"
     ]
    },
    {
     "name": "stderr",
     "output_type": "stream",
     "text": [
      "[11/100] Loss_D: 1.0000 Loss_G: 0.0072 D(x): 0.0000 D(G(z)): 0.0000: 100%|███████████| 857/857 [08:35<00:00,  1.66it/s]\n",
      "  0%|                                                                                          | 0/857 [00:00<?, ?it/s]"
     ]
    },
    {
     "name": "stdout",
     "output_type": "stream",
     "text": [
      "94.4499770363172\n",
      "    Loss_D    Loss_G       Score_D       Score_G\n",
      "11     1.0  0.007169  3.245428e-40  1.671258e-41\n"
     ]
    },
    {
     "name": "stderr",
     "output_type": "stream",
     "text": [
      "[12/100] Loss_D: 1.0000 Loss_G: 0.0073 D(x): 0.0000 D(G(z)): 0.0000: 100%|███████████| 857/857 [08:35<00:00,  1.66it/s]\n",
      "  0%|                                                                                          | 0/857 [00:00<?, ?it/s]"
     ]
    },
    {
     "name": "stdout",
     "output_type": "stream",
     "text": [
      "103.03872157732646\n",
      "    Loss_D    Loss_G       Score_D       Score_G\n",
      "12     1.0  0.007259  1.516698e-39  1.601865e-39\n"
     ]
    },
    {
     "name": "stderr",
     "output_type": "stream",
     "text": [
      "[13/100] Loss_D: 1.0000 Loss_G: 0.0071 D(x): 0.0000 D(G(z)): 0.0000: 100%|███████████| 857/857 [08:35<00:00,  1.66it/s]\n",
      "  0%|                                                                                          | 0/857 [00:00<?, ?it/s]"
     ]
    },
    {
     "name": "stdout",
     "output_type": "stream",
     "text": [
      "111.62832386891047\n",
      "    Loss_D    Loss_G       Score_D       Score_G\n",
      "13     1.0  0.007128  7.028825e-41  2.142029e-43\n"
     ]
    },
    {
     "name": "stderr",
     "output_type": "stream",
     "text": [
      "[14/100] Loss_D: 1.0000 Loss_G: 0.0071 D(x): 0.0000 D(G(z)): 0.0000: 100%|███████████| 857/857 [08:35<00:00,  1.66it/s]\n",
      "  0%|                                                                                          | 0/857 [00:00<?, ?it/s]"
     ]
    },
    {
     "name": "stdout",
     "output_type": "stream",
     "text": [
      "120.21683529218038\n",
      "    Loss_D    Loss_G       Score_D       Score_G\n",
      "14     1.0  0.007146  3.883512e-37  7.140735e-37\n"
     ]
    },
    {
     "name": "stderr",
     "output_type": "stream",
     "text": [
      "[15/100] Loss_D: 1.0000 Loss_G: 0.0077 D(x): 0.0000 D(G(z)): 0.0000: 100%|███████████| 857/857 [08:35<00:00,  1.66it/s]\n",
      "  0%|                                                                                          | 0/857 [00:00<?, ?it/s]"
     ]
    },
    {
     "name": "stdout",
     "output_type": "stream",
     "text": [
      "128.80837078491848\n",
      "    Loss_D    Loss_G       Score_D       Score_G\n",
      "15     1.0  0.007714  6.684317e-37  2.736877e-36\n"
     ]
    },
    {
     "name": "stderr",
     "output_type": "stream",
     "text": [
      "[16/100] Loss_D: 1.0000 Loss_G: 0.0071 D(x): 0.0000 D(G(z)): 0.0000: 100%|███████████| 857/857 [08:35<00:00,  1.66it/s]\n",
      "  0%|                                                                                          | 0/857 [00:00<?, ?it/s]"
     ]
    },
    {
     "name": "stdout",
     "output_type": "stream",
     "text": [
      "137.40237763722737\n",
      "    Loss_D    Loss_G       Score_D       Score_G\n",
      "16     1.0  0.007054  2.796486e-39  2.467881e-40\n"
     ]
    },
    {
     "name": "stderr",
     "output_type": "stream",
     "text": [
      "[17/100] Loss_D: 1.0000 Loss_G: 0.0071 D(x): 0.0000 D(G(z)): 0.0000: 100%|███████████| 857/857 [08:35<00:00,  1.66it/s]\n",
      "  0%|                                                                                          | 0/857 [00:00<?, ?it/s]"
     ]
    },
    {
     "name": "stdout",
     "output_type": "stream",
     "text": [
      "145.99254146814346\n",
      "    Loss_D    Loss_G       Score_D       Score_G\n",
      "17     1.0  0.007054  8.273955e-38  9.928075e-40\n"
     ]
    },
    {
     "name": "stderr",
     "output_type": "stream",
     "text": [
      "[18/100] Loss_D: 1.0000 Loss_G: 0.0072 D(x): 0.0000 D(G(z)): 0.0000: 100%|███████████| 857/857 [08:34<00:00,  1.66it/s]\n",
      "  0%|                                                                                          | 0/857 [00:00<?, ?it/s]"
     ]
    },
    {
     "name": "stdout",
     "output_type": "stream",
     "text": [
      "154.57847726742426\n",
      "    Loss_D    Loss_G       Score_D       Score_G\n",
      "18     1.0  0.007166  1.132851e-33  2.061103e-33\n"
     ]
    },
    {
     "name": "stderr",
     "output_type": "stream",
     "text": [
      "[19/100] Loss_D: 1.0000 Loss_G: 0.0071 D(x): 0.0000 D(G(z)): 0.0000: 100%|███████████| 857/857 [08:34<00:00,  1.66it/s]\n",
      "  0%|                                                                                          | 0/857 [00:00<?, ?it/s]"
     ]
    },
    {
     "name": "stdout",
     "output_type": "stream",
     "text": [
      "163.16407731771469\n",
      "    Loss_D    Loss_G       Score_D       Score_G\n",
      "19     1.0  0.007142  6.106135e-41  7.301965e-41\n"
     ]
    },
    {
     "name": "stderr",
     "output_type": "stream",
     "text": [
      "[20/100] Loss_D: 1.0000 Loss_G: 0.0072 D(x): 0.0000 D(G(z)): 0.0000: 100%|███████████| 857/857 [08:34<00:00,  1.66it/s]\n",
      "  0%|                                                                                          | 0/857 [00:00<?, ?it/s]"
     ]
    },
    {
     "name": "stdout",
     "output_type": "stream",
     "text": [
      "171.75022654533387\n",
      "    Loss_D    Loss_G       Score_D       Score_G\n",
      "20     1.0  0.007172  4.231764e-39  5.857711e-39\n"
     ]
    },
    {
     "name": "stderr",
     "output_type": "stream",
     "text": [
      "[21/100] Loss_D: 1.0000 Loss_G: 0.0076 D(x): 0.0000 D(G(z)): 0.0000: 100%|███████████| 857/857 [08:35<00:00,  1.66it/s]\n",
      "  0%|                                                                                          | 0/857 [00:00<?, ?it/s]"
     ]
    },
    {
     "name": "stdout",
     "output_type": "stream",
     "text": [
      "180.33832462628683\n",
      "    Loss_D    Loss_G       Score_D       Score_G\n",
      "21     1.0  0.007633  2.040879e-39  3.856952e-40\n"
     ]
    },
    {
     "name": "stderr",
     "output_type": "stream",
     "text": [
      "[22/100] Loss_D: 1.0000 Loss_G: 0.0070 D(x): 0.0000 D(G(z)): 0.0000: 100%|███████████| 857/857 [08:35<00:00,  1.66it/s]\n",
      "  0%|                                                                                          | 0/857 [00:00<?, ?it/s]"
     ]
    },
    {
     "name": "stdout",
     "output_type": "stream",
     "text": [
      "188.92649229367575\n",
      "    Loss_D    Loss_G       Score_D       Score_G\n",
      "22     1.0  0.007047  6.355391e-40  2.542934e-40\n"
     ]
    },
    {
     "name": "stderr",
     "output_type": "stream",
     "text": [
      "[23/100] Loss_D: 1.0000 Loss_G: 0.0071 D(x): 0.0000 D(G(z)): 0.0000: 100%|███████████| 857/857 [08:35<00:00,  1.66it/s]\n",
      "  0%|                                                                                          | 0/857 [00:00<?, ?it/s]"
     ]
    },
    {
     "name": "stdout",
     "output_type": "stream",
     "text": [
      "197.51703544457754\n",
      "    Loss_D    Loss_G       Score_D       Score_G\n",
      "23     1.0  0.007081  6.274383e-42  1.371268e-40\n"
     ]
    },
    {
     "name": "stderr",
     "output_type": "stream",
     "text": [
      "[24/100] Loss_D: 1.0000 Loss_G: 0.0071 D(x): 0.0000 D(G(z)): 0.0000: 100%|███████████| 857/857 [08:35<00:00,  1.66it/s]\n",
      "  0%|                                                                                          | 0/857 [00:00<?, ?it/s]"
     ]
    },
    {
     "name": "stdout",
     "output_type": "stream",
     "text": [
      "206.10995726188023\n",
      "    Loss_D    Loss_G       Score_D       Score_G\n",
      "24     1.0  0.007095  8.299890e-35  6.731139e-36\n"
     ]
    },
    {
     "name": "stderr",
     "output_type": "stream",
     "text": [
      "[25/100] Loss_D: 1.0000 Loss_G: 0.0076 D(x): 0.0000 D(G(z)): 0.0000: 100%|███████████| 857/857 [08:35<00:00,  1.66it/s]\n",
      "  0%|                                                                                          | 0/857 [00:00<?, ?it/s]"
     ]
    },
    {
     "name": "stdout",
     "output_type": "stream",
     "text": [
      "214.69941278298697\n",
      "    Loss_D    Loss_G  Score_D       Score_G\n",
      "25     1.0  0.007551      0.0  5.187750e-43\n"
     ]
    },
    {
     "name": "stderr",
     "output_type": "stream",
     "text": [
      "[26/100] Loss_D: 1.0000 Loss_G: 0.0073 D(x): 0.0000 D(G(z)): 0.0000: 100%|███████████| 857/857 [08:34<00:00,  1.66it/s]\n",
      "  0%|                                                                                          | 0/857 [00:00<?, ?it/s]"
     ]
    },
    {
     "name": "stdout",
     "output_type": "stream",
     "text": [
      "223.28525170882543\n",
      "    Loss_D    Loss_G       Score_D       Score_G\n",
      "26     1.0  0.007323  1.003638e-39  1.987001e-39\n"
     ]
    },
    {
     "name": "stderr",
     "output_type": "stream",
     "text": [
      "[27/100] Loss_D: 1.0000 Loss_G: 0.0071 D(x): 0.0000 D(G(z)): 0.0000: 100%|███████████| 857/857 [08:35<00:00,  1.66it/s]\n",
      "  0%|                                                                                          | 0/857 [00:00<?, ?it/s]"
     ]
    },
    {
     "name": "stdout",
     "output_type": "stream",
     "text": [
      "231.87249147494634\n",
      "    Loss_D    Loss_G       Score_D       Score_G\n",
      "27     1.0  0.007064  4.178673e-38  4.136880e-38\n"
     ]
    },
    {
     "name": "stderr",
     "output_type": "stream",
     "text": [
      "[28/100] Loss_D: 1.0000 Loss_G: 0.0071 D(x): 0.0000 D(G(z)): 0.0000: 100%|███████████| 857/857 [08:35<00:00,  1.66it/s]\n",
      "  0%|                                                                                          | 0/857 [00:00<?, ?it/s]"
     ]
    },
    {
     "name": "stdout",
     "output_type": "stream",
     "text": [
      "240.46535762151083\n",
      "    Loss_D    Loss_G       Score_D       Score_G\n",
      "28     1.0  0.007137  2.521021e-36  1.128173e-38\n"
     ]
    },
    {
     "name": "stderr",
     "output_type": "stream",
     "text": [
      "[29/100] Loss_D: 1.0000 Loss_G: 0.0071 D(x): 0.0000 D(G(z)): 0.0000: 100%|███████████| 857/857 [08:35<00:00,  1.66it/s]\n",
      "  0%|                                                                                          | 0/857 [00:00<?, ?it/s]"
     ]
    },
    {
     "name": "stdout",
     "output_type": "stream",
     "text": [
      "249.05583815574647\n",
      "    Loss_D    Loss_G       Score_D       Score_G\n",
      "29     1.0  0.007102  5.594849e-40  2.110341e-40\n"
     ]
    },
    {
     "name": "stderr",
     "output_type": "stream",
     "text": [
      "[30/100] Loss_D: 1.0000 Loss_G: 0.0086 D(x): 0.0000 D(G(z)): 0.0000: 100%|███████████| 857/857 [08:35<00:00,  1.66it/s]\n",
      "  0%|                                                                                          | 0/857 [00:00<?, ?it/s]"
     ]
    },
    {
     "name": "stdout",
     "output_type": "stream",
     "text": [
      "257.64510218699775\n",
      "    Loss_D    Loss_G       Score_D       Score_G\n",
      "30     1.0  0.008644  4.890218e-39  4.056416e-39\n"
     ]
    },
    {
     "name": "stderr",
     "output_type": "stream",
     "text": [
      "[31/100] Loss_D: 1.0000 Loss_G: 0.0070 D(x): 0.0000 D(G(z)): 0.0000: 100%|███████████| 857/857 [08:35<00:00,  1.66it/s]\n",
      "  0%|                                                                                          | 0/857 [00:00<?, ?it/s]"
     ]
    },
    {
     "name": "stdout",
     "output_type": "stream",
     "text": [
      "266.2358765641848\n",
      "    Loss_D    Loss_G       Score_D       Score_G\n",
      "31     1.0  0.007007  5.419438e-38  7.785074e-38\n"
     ]
    },
    {
     "name": "stderr",
     "output_type": "stream",
     "text": [
      "[32/100] Loss_D: 1.0000 Loss_G: 0.0070 D(x): 0.0000 D(G(z)): 0.0000: 100%|███████████| 857/857 [08:35<00:00,  1.66it/s]\n",
      "  0%|                                                                                          | 0/857 [00:00<?, ?it/s]"
     ]
    },
    {
     "name": "stdout",
     "output_type": "stream",
     "text": [
      "274.8241326292356\n",
      "    Loss_D    Loss_G       Score_D       Score_G\n",
      "32     1.0  0.007019  1.556318e-39  8.794110e-40\n"
     ]
    },
    {
     "name": "stderr",
     "output_type": "stream",
     "text": [
      "[33/100] Loss_D: 1.0000 Loss_G: 0.0070 D(x): 0.0000 D(G(z)): 0.0000: 100%|███████████| 857/857 [08:35<00:00,  1.66it/s]\n",
      "  0%|                                                                                          | 0/857 [00:00<?, ?it/s]"
     ]
    },
    {
     "name": "stdout",
     "output_type": "stream",
     "text": [
      "283.41166314681374\n",
      "    Loss_D    Loss_G       Score_D       Score_G\n",
      "33     1.0  0.007048  3.996627e-37  2.414198e-35\n"
     ]
    },
    {
     "name": "stderr",
     "output_type": "stream",
     "text": [
      "[34/100] Loss_D: 1.0000 Loss_G: 0.0071 D(x): 0.0000 D(G(z)): 0.0000: 100%|███████████| 857/857 [08:35<00:00,  1.66it/s]\n",
      "  0%|                                                                                          | 0/857 [00:00<?, ?it/s]"
     ]
    },
    {
     "name": "stdout",
     "output_type": "stream",
     "text": [
      "292.00059629678725\n",
      "    Loss_D    Loss_G       Score_D       Score_G\n",
      "34     1.0  0.007105  2.666554e-35  5.787914e-36\n"
     ]
    },
    {
     "name": "stderr",
     "output_type": "stream",
     "text": [
      "[35/100] Loss_D: 1.0000 Loss_G: 0.0074 D(x): 0.0000 D(G(z)): 0.0000: 100%|███████████| 857/857 [08:35<00:00,  1.66it/s]\n",
      "  0%|                                                                                          | 0/857 [00:00<?, ?it/s]"
     ]
    },
    {
     "name": "stdout",
     "output_type": "stream",
     "text": [
      "300.5900122523308\n",
      "    Loss_D    Loss_G       Score_D       Score_G\n",
      "35     1.0  0.007409  1.997301e-34  7.179920e-33\n"
     ]
    },
    {
     "name": "stderr",
     "output_type": "stream",
     "text": [
      "[36/100] Loss_D: 1.0000 Loss_G: 0.0070 D(x): 0.0000 D(G(z)): 0.0000: 100%|███████████| 857/857 [08:35<00:00,  1.66it/s]\n",
      "  0%|                                                                                          | 0/857 [00:00<?, ?it/s]"
     ]
    },
    {
     "name": "stdout",
     "output_type": "stream",
     "text": [
      "309.1796138763428\n",
      "    Loss_D    Loss_G       Score_D       Score_G\n",
      "36     1.0  0.007034  1.681749e-39  9.609959e-39\n"
     ]
    },
    {
     "name": "stderr",
     "output_type": "stream",
     "text": [
      "[37/100] Loss_D: 1.0000 Loss_G: 0.0070 D(x): 0.0000 D(G(z)): 0.0000: 100%|███████████| 857/857 [08:35<00:00,  1.66it/s]\n",
      "  0%|                                                                                          | 0/857 [00:00<?, ?it/s]"
     ]
    },
    {
     "name": "stdout",
     "output_type": "stream",
     "text": [
      "317.7703996340434\n",
      "    Loss_D    Loss_G       Score_D       Score_G\n",
      "37     1.0  0.006992  1.132373e-39  4.783427e-40\n"
     ]
    },
    {
     "name": "stderr",
     "output_type": "stream",
     "text": [
      "[38/100] Loss_D: 1.0000 Loss_G: 0.0070 D(x): 0.0000 D(G(z)): 0.0000: 100%|███████████| 857/857 [08:35<00:00,  1.66it/s]\n",
      "  0%|                                                                                          | 0/857 [00:00<?, ?it/s]"
     ]
    },
    {
     "name": "stdout",
     "output_type": "stream",
     "text": [
      "326.365406314532\n",
      "    Loss_D    Loss_G       Score_D       Score_G\n",
      "38     1.0  0.007043  5.738523e-41  3.232413e-41\n"
     ]
    },
    {
     "name": "stderr",
     "output_type": "stream",
     "text": [
      "[39/100] Loss_D: 1.0000 Loss_G: 0.0071 D(x): 0.0000 D(G(z)): 0.0000: 100%|███████████| 857/857 [08:39<00:00,  1.65it/s]\n",
      "  0%|                                                                                          | 0/857 [00:00<?, ?it/s]"
     ]
    },
    {
     "name": "stdout",
     "output_type": "stream",
     "text": [
      "335.0193962574005\n",
      "    Loss_D    Loss_G       Score_D       Score_G\n",
      "39     1.0  0.007149  2.253902e-39  3.909000e-41\n"
     ]
    },
    {
     "name": "stderr",
     "output_type": "stream",
     "text": [
      "[40/100] Loss_D: 1.0000 Loss_G: 0.0071 D(x): 0.0000 D(G(z)): 0.0000: 100%|███████████| 857/857 [08:38<00:00,  1.65it/s]\n",
      "  0%|                                                                                          | 0/857 [00:00<?, ?it/s]"
     ]
    },
    {
     "name": "stdout",
     "output_type": "stream",
     "text": [
      "343.66233247121176\n",
      "    Loss_D    Loss_G       Score_D       Score_G\n",
      "40     1.0  0.007113  1.063545e-35  1.708134e-37\n"
     ]
    },
    {
     "name": "stderr",
     "output_type": "stream",
     "text": [
      "[41/100] Loss_D: 1.0000 Loss_G: 0.0072 D(x): 0.0000 D(G(z)): 0.0000: 100%|███████████| 857/857 [08:47<00:00,  1.63it/s]\n",
      "  0%|                                                                                          | 0/857 [00:00<?, ?it/s]"
     ]
    },
    {
     "name": "stdout",
     "output_type": "stream",
     "text": [
      "352.4542132894198\n",
      "    Loss_D    Loss_G       Score_D       Score_G\n",
      "41     1.0  0.007191  4.475025e-41  2.133653e-41\n"
     ]
    },
    {
     "name": "stderr",
     "output_type": "stream",
     "text": [
      "[42/100] Loss_D: 1.0000 Loss_G: 0.0071 D(x): 0.0000 D(G(z)): 0.0000: 100%|███████████| 857/857 [08:52<00:00,  1.61it/s]\n",
      "  0%|                                                                                          | 0/857 [00:00<?, ?it/s]"
     ]
    },
    {
     "name": "stdout",
     "output_type": "stream",
     "text": [
      "361.32976382573446\n",
      "    Loss_D    Loss_G       Score_D       Score_G\n",
      "42     1.0  0.007071  5.759875e-37  3.910443e-38\n"
     ]
    },
    {
     "name": "stderr",
     "output_type": "stream",
     "text": [
      "[43/100] Loss_D: 1.0000 Loss_G: 0.0071 D(x): 0.0000 D(G(z)): 0.0000: 100%|███████████| 857/857 [08:47<00:00,  1.63it/s]\n",
      "  0%|                                                                                          | 0/857 [00:00<?, ?it/s]"
     ]
    },
    {
     "name": "stdout",
     "output_type": "stream",
     "text": [
      "370.120705250899\n",
      "    Loss_D    Loss_G       Score_D       Score_G\n",
      "43     1.0  0.007058  4.650127e-41  1.717561e-41\n"
     ]
    },
    {
     "name": "stderr",
     "output_type": "stream",
     "text": [
      "[44/100] Loss_D: 1.0000 Loss_G: 0.0071 D(x): 0.0000 D(G(z)): 0.0000: 100%|███████████| 857/857 [08:48<00:00,  1.62it/s]\n",
      "  0%|                                                                                          | 0/857 [00:00<?, ?it/s]"
     ]
    },
    {
     "name": "stdout",
     "output_type": "stream",
     "text": [
      "378.9243385752042\n",
      "    Loss_D    Loss_G       Score_D       Score_G\n",
      "44     1.0  0.007091  3.667772e-39  3.082540e-39\n"
     ]
    },
    {
     "name": "stderr",
     "output_type": "stream",
     "text": [
      "[45/100] Loss_D: 1.0000 Loss_G: 0.0071 D(x): 0.0000 D(G(z)): 0.0000: 100%|███████████| 857/857 [08:43<00:00,  1.64it/s]\n",
      "  0%|                                                                                          | 0/857 [00:00<?, ?it/s]"
     ]
    },
    {
     "name": "stdout",
     "output_type": "stream",
     "text": [
      "387.65557490587236\n",
      "    Loss_D    Loss_G       Score_D       Score_G\n",
      "45     1.0  0.007127  1.226681e-36  3.351071e-38\n"
     ]
    },
    {
     "name": "stderr",
     "output_type": "stream",
     "text": [
      "[46/100] Loss_D: 1.0000 Loss_G: 0.0077 D(x): 0.0000 D(G(z)): 0.0000: 100%|███████████| 857/857 [08:38<00:00,  1.65it/s]\n",
      "  0%|                                                                                          | 0/857 [00:00<?, ?it/s]"
     ]
    },
    {
     "name": "stdout",
     "output_type": "stream",
     "text": [
      "396.294600101312\n",
      "    Loss_D    Loss_G       Score_D       Score_G\n",
      "46     1.0  0.007653  9.282368e-39  7.419694e-38\n"
     ]
    },
    {
     "name": "stderr",
     "output_type": "stream",
     "text": [
      "[47/100] Loss_D: 1.0000 Loss_G: 0.0070 D(x): 0.0000 D(G(z)): 0.0000: 100%|███████████| 857/857 [08:37<00:00,  1.65it/s]\n",
      "  0%|                                                                                          | 0/857 [00:00<?, ?it/s]"
     ]
    },
    {
     "name": "stdout",
     "output_type": "stream",
     "text": [
      "404.93060952425003\n",
      "    Loss_D    Loss_G       Score_D       Score_G\n",
      "47     1.0  0.006984  2.663491e-39  1.017867e-39\n"
     ]
    },
    {
     "name": "stderr",
     "output_type": "stream",
     "text": [
      "[48/100] Loss_D: 1.0000 Loss_G: 0.0070 D(x): 0.0000 D(G(z)): 0.0000: 100%|███████████| 857/857 [08:38<00:00,  1.65it/s]\n",
      "  0%|                                                                                          | 0/857 [00:00<?, ?it/s]"
     ]
    },
    {
     "name": "stdout",
     "output_type": "stream",
     "text": [
      "413.5728720903397\n",
      "    Loss_D    Loss_G       Score_D       Score_G\n",
      "48     1.0  0.007035  2.695433e-37  2.016933e-37\n"
     ]
    },
    {
     "name": "stderr",
     "output_type": "stream",
     "text": [
      "[49/100] Loss_D: 1.0000 Loss_G: 0.0070 D(x): 0.0000 D(G(z)): 0.0000: 100%|███████████| 857/857 [08:37<00:00,  1.66it/s]\n",
      "  0%|                                                                                          | 0/857 [00:00<?, ?it/s]"
     ]
    },
    {
     "name": "stdout",
     "output_type": "stream",
     "text": [
      "422.20549885034563\n",
      "    Loss_D    Loss_G       Score_D       Score_G\n",
      "49     1.0  0.007012  9.315159e-40  6.466139e-40\n"
     ]
    },
    {
     "name": "stderr",
     "output_type": "stream",
     "text": [
      "[50/100] Loss_D: 1.0000 Loss_G: 0.0071 D(x): 0.0000 D(G(z)): 0.0000: 100%|███████████| 857/857 [08:38<00:00,  1.65it/s]\n",
      "  0%|                                                                                          | 0/857 [00:00<?, ?it/s]"
     ]
    },
    {
     "name": "stdout",
     "output_type": "stream",
     "text": [
      "430.8467617352804\n",
      "    Loss_D    Loss_G       Score_D       Score_G\n",
      "50     1.0  0.007088  5.481209e-41  2.257397e-42\n"
     ]
    },
    {
     "name": "stderr",
     "output_type": "stream",
     "text": [
      "[51/100] Loss_D: 1.0000 Loss_G: 0.0071 D(x): 0.0000 D(G(z)): 0.0000: 100%|███████████| 857/857 [08:38<00:00,  1.65it/s]\n",
      "  0%|                                                                                          | 0/857 [00:00<?, ?it/s]"
     ]
    },
    {
     "name": "stdout",
     "output_type": "stream",
     "text": [
      "439.48816821177803\n",
      "    Loss_D    Loss_G       Score_D       Score_G\n",
      "51     1.0  0.007067  2.644094e-32  1.193196e-34\n"
     ]
    },
    {
     "name": "stderr",
     "output_type": "stream",
     "text": [
      "[52/100] Loss_D: 1.0000 Loss_G: 0.0073 D(x): 0.0000 D(G(z)): 0.0000: 100%|███████████| 857/857 [08:37<00:00,  1.66it/s]\n",
      "  0%|                                                                                          | 0/857 [00:00<?, ?it/s]"
     ]
    },
    {
     "name": "stdout",
     "output_type": "stream",
     "text": [
      "448.1199365814527\n",
      "    Loss_D   Loss_G       Score_D       Score_G\n",
      "52     1.0  0.00729  4.943396e-38  9.442354e-38\n"
     ]
    },
    {
     "name": "stderr",
     "output_type": "stream",
     "text": [
      "[53/100] Loss_D: 1.0000 Loss_G: 0.0073 D(x): 0.0000 D(G(z)): 0.0000: 100%|███████████| 857/857 [08:37<00:00,  1.66it/s]\n",
      "  0%|                                                                                          | 0/857 [00:00<?, ?it/s]"
     ]
    },
    {
     "name": "stdout",
     "output_type": "stream",
     "text": [
      "456.7519614259402\n",
      "    Loss_D   Loss_G       Score_D       Score_G\n",
      "53     1.0  0.00732  2.814311e-37  4.669881e-38\n"
     ]
    },
    {
     "name": "stderr",
     "output_type": "stream",
     "text": [
      "[54/100] Loss_D: 1.0000 Loss_G: 0.0070 D(x): 0.0000 D(G(z)): 0.0000: 100%|███████████| 857/857 [08:38<00:00,  1.65it/s]\n",
      "  0%|                                                                                          | 0/857 [00:00<?, ?it/s]"
     ]
    },
    {
     "name": "stdout",
     "output_type": "stream",
     "text": [
      "465.3960821946462\n",
      "    Loss_D    Loss_G       Score_D       Score_G\n",
      "54     1.0  0.006992  1.844704e-35  3.725026e-35\n"
     ]
    },
    {
     "name": "stderr",
     "output_type": "stream",
     "text": [
      "[55/100] Loss_D: 1.0000 Loss_G: 0.0071 D(x): 0.0000 D(G(z)): 0.0000: 100%|███████████| 857/857 [08:39<00:00,  1.65it/s]\n",
      "  0%|                                                                                          | 0/857 [00:00<?, ?it/s]"
     ]
    },
    {
     "name": "stdout",
     "output_type": "stream",
     "text": [
      "474.05129710038506\n",
      "    Loss_D   Loss_G       Score_D       Score_G\n",
      "55     1.0  0.00712  8.608968e-42  1.365413e-42\n"
     ]
    },
    {
     "name": "stderr",
     "output_type": "stream",
     "text": [
      "[56/100] Loss_D: 1.0000 Loss_G: 0.0070 D(x): 0.0000 D(G(z)): 0.0000: 100%|███████████| 857/857 [08:42<00:00,  1.64it/s]\n",
      "  0%|                                                                                          | 0/857 [00:00<?, ?it/s]"
     ]
    },
    {
     "name": "stdout",
     "output_type": "stream",
     "text": [
      "482.7586812098821\n",
      "    Loss_D    Loss_G       Score_D       Score_G\n",
      "56     1.0  0.007036  1.953116e-40  1.673489e-40\n"
     ]
    },
    {
     "name": "stderr",
     "output_type": "stream",
     "text": [
      "[57/100] Loss_D: 1.0000 Loss_G: 0.0070 D(x): 0.0000 D(G(z)): 0.0000: 100%|███████████| 857/857 [08:52<00:00,  1.61it/s]\n",
      "  0%|                                                                                          | 0/857 [00:00<?, ?it/s]"
     ]
    },
    {
     "name": "stdout",
     "output_type": "stream",
     "text": [
      "491.6356962680817\n",
      "    Loss_D    Loss_G       Score_D       Score_G\n",
      "57     1.0  0.007041  1.558235e-40  1.694805e-42\n"
     ]
    },
    {
     "name": "stderr",
     "output_type": "stream",
     "text": [
      "[58/100] Loss_D: 1.0000 Loss_G: 0.0074 D(x): 0.0000 D(G(z)): 0.0000: 100%|███████████| 857/857 [08:52<00:00,  1.61it/s]\n",
      "  0%|                                                                                          | 0/857 [00:00<?, ?it/s]"
     ]
    },
    {
     "name": "stdout",
     "output_type": "stream",
     "text": [
      "500.5175393263499\n",
      "    Loss_D    Loss_G       Score_D       Score_G\n",
      "58     1.0  0.007364  4.318670e-39  1.829330e-41\n"
     ]
    },
    {
     "name": "stderr",
     "output_type": "stream",
     "text": [
      "[59/100] Loss_D: 1.0000 Loss_G: 0.0070 D(x): 0.0000 D(G(z)): 0.0000: 100%|███████████| 857/857 [08:54<00:00,  1.60it/s]\n",
      "  0%|                                                                                          | 0/857 [00:00<?, ?it/s]"
     ]
    },
    {
     "name": "stdout",
     "output_type": "stream",
     "text": [
      "509.42636806964873\n",
      "    Loss_D    Loss_G       Score_D       Score_G\n",
      "59     1.0  0.006973  7.814455e-37  1.808968e-37\n"
     ]
    },
    {
     "name": "stderr",
     "output_type": "stream",
     "text": [
      "[60/100] Loss_D: 1.0000 Loss_G: 0.0070 D(x): 0.0000 D(G(z)): 0.0000: 100%|███████████| 857/857 [08:38<00:00,  1.65it/s]\n",
      "  0%|                                                                                          | 0/857 [00:00<?, ?it/s]"
     ]
    },
    {
     "name": "stdout",
     "output_type": "stream",
     "text": [
      "518.0699049433073\n",
      "    Loss_D    Loss_G       Score_D       Score_G\n",
      "60     1.0  0.006991  1.977848e-41  3.272507e-41\n"
     ]
    },
    {
     "name": "stderr",
     "output_type": "stream",
     "text": [
      "[61/100] Loss_D: 1.0000 Loss_G: 0.0070 D(x): 0.0000 D(G(z)): 0.0000: 100%|███████████| 857/857 [08:45<00:00,  1.63it/s]\n",
      "  0%|                                                                                          | 0/857 [00:00<?, ?it/s]"
     ]
    },
    {
     "name": "stdout",
     "output_type": "stream",
     "text": [
      "526.8259999036788\n",
      "    Loss_D    Loss_G       Score_D       Score_G\n",
      "61     1.0  0.007006  5.707467e-39  2.677699e-42\n"
     ]
    },
    {
     "name": "stderr",
     "output_type": "stream",
     "text": [
      "[62/100] Loss_D: 1.0000 Loss_G: 0.0071 D(x): 0.0000 D(G(z)): 0.0000: 100%|███████████| 857/857 [08:48<00:00,  1.62it/s]\n",
      "  0%|                                                                                          | 0/857 [00:00<?, ?it/s]"
     ]
    },
    {
     "name": "stdout",
     "output_type": "stream",
     "text": [
      "535.636859536171\n",
      "    Loss_D    Loss_G       Score_D       Score_G\n",
      "62     1.0  0.007087  4.101367e-39  8.337132e-39\n"
     ]
    },
    {
     "name": "stderr",
     "output_type": "stream",
     "text": [
      "[63/100] Loss_D: 1.0000 Loss_G: 0.0070 D(x): 0.0000 D(G(z)): 0.0000: 100%|███████████| 857/857 [08:49<00:00,  1.62it/s]\n",
      "  0%|                                                                                          | 0/857 [00:00<?, ?it/s]"
     ]
    },
    {
     "name": "stdout",
     "output_type": "stream",
     "text": [
      "544.464330136776\n",
      "    Loss_D    Loss_G       Score_D       Score_G\n",
      "63     1.0  0.007042  4.188566e-39  1.196573e-39\n"
     ]
    },
    {
     "name": "stderr",
     "output_type": "stream",
     "text": [
      "[64/100] Loss_D: 1.0000 Loss_G: 0.0071 D(x): 0.0000 D(G(z)): 0.0000: 100%|███████████| 857/857 [08:45<00:00,  1.63it/s]\n",
      "  0%|                                                                                          | 0/857 [00:00<?, ?it/s]"
     ]
    },
    {
     "name": "stdout",
     "output_type": "stream",
     "text": [
      "553.2299898544948\n",
      "    Loss_D    Loss_G       Score_D       Score_G\n",
      "64     1.0  0.007093  8.059159e-38  3.679275e-38\n"
     ]
    },
    {
     "name": "stderr",
     "output_type": "stream",
     "text": [
      "[65/100] Loss_D: 1.0000 Loss_G: 0.0071 D(x): 0.0000 D(G(z)): 0.0000: 100%|███████████| 857/857 [08:48<00:00,  1.62it/s]\n",
      "  0%|                                                                                          | 0/857 [00:00<?, ?it/s]"
     ]
    },
    {
     "name": "stdout",
     "output_type": "stream",
     "text": [
      "562.0413952668508\n",
      "    Loss_D    Loss_G       Score_D       Score_G\n",
      "65     1.0  0.007146  1.003561e-37  4.241740e-42\n"
     ]
    },
    {
     "name": "stderr",
     "output_type": "stream",
     "text": [
      "[66/100] Loss_D: 1.0000 Loss_G: 0.0070 D(x): 0.0000 D(G(z)): 0.0000: 100%|███████████| 857/857 [08:49<00:00,  1.62it/s]\n",
      "  0%|                                                                                          | 0/857 [00:00<?, ?it/s]"
     ]
    },
    {
     "name": "stdout",
     "output_type": "stream",
     "text": [
      "570.8757932901383\n",
      "    Loss_D    Loss_G       Score_D       Score_G\n",
      "66     1.0  0.006998  9.611306e-39  5.566450e-38\n"
     ]
    },
    {
     "name": "stderr",
     "output_type": "stream",
     "text": [
      "[67/100] Loss_D: 1.0000 Loss_G: 0.0070 D(x): 0.0000 D(G(z)): 0.0000: 100%|███████████| 857/857 [08:52<00:00,  1.61it/s]\n",
      "  0%|                                                                                          | 0/857 [00:00<?, ?it/s]"
     ]
    },
    {
     "name": "stdout",
     "output_type": "stream",
     "text": [
      "579.753119802475\n",
      "    Loss_D    Loss_G       Score_D       Score_G\n",
      "67     1.0  0.007008  4.830625e-39  9.712984e-40\n"
     ]
    },
    {
     "name": "stderr",
     "output_type": "stream",
     "text": [
      "[68/100] Loss_D: 1.0000 Loss_G: 0.0072 D(x): 0.0000 D(G(z)): 0.0000: 100%|███████████| 857/857 [08:49<00:00,  1.62it/s]\n",
      "  0%|                                                                                          | 0/857 [00:00<?, ?it/s]"
     ]
    },
    {
     "name": "stdout",
     "output_type": "stream",
     "text": [
      "588.5766561667125\n",
      "    Loss_D   Loss_G  Score_D       Score_G\n",
      "68     1.0  0.00724      0.0  1.240284e-41\n"
     ]
    },
    {
     "name": "stderr",
     "output_type": "stream",
     "text": [
      "[69/100] Loss_D: 1.0000 Loss_G: 0.0070 D(x): 0.0000 D(G(z)): 0.0000: 100%|███████████| 857/857 [08:38<00:00,  1.65it/s]\n",
      "  0%|                                                                                          | 0/857 [00:00<?, ?it/s]"
     ]
    },
    {
     "name": "stdout",
     "output_type": "stream",
     "text": [
      "597.2133298397064\n",
      "    Loss_D    Loss_G       Score_D       Score_G\n",
      "69     1.0  0.006983  1.972358e-37  7.398601e-36\n"
     ]
    },
    {
     "name": "stderr",
     "output_type": "stream",
     "text": [
      "[70/100] Loss_D: 1.0000 Loss_G: 0.0071 D(x): 0.0000 D(G(z)): 0.0000: 100%|███████████| 857/857 [08:37<00:00,  1.65it/s]\n",
      "  0%|                                                                                          | 0/857 [00:00<?, ?it/s]"
     ]
    },
    {
     "name": "stdout",
     "output_type": "stream",
     "text": [
      "605.8473100940387\n",
      "    Loss_D    Loss_G       Score_D  Score_G\n",
      "70     1.0  0.007069  3.009109e-39      0.0\n"
     ]
    },
    {
     "name": "stderr",
     "output_type": "stream",
     "text": [
      "[71/100] Loss_D: 1.0000 Loss_G: 0.0070 D(x): 0.0000 D(G(z)): 0.0000: 100%|███████████| 857/857 [08:38<00:00,  1.65it/s]\n",
      "  0%|                                                                                          | 0/857 [00:00<?, ?it/s]"
     ]
    },
    {
     "name": "stdout",
     "output_type": "stream",
     "text": [
      "614.4994181513787\n",
      "    Loss_D    Loss_G       Score_D       Score_G\n",
      "71     1.0  0.006982  9.660970e-38  1.422993e-38\n"
     ]
    },
    {
     "name": "stderr",
     "output_type": "stream",
     "text": [
      "[72/100] Loss_D: 1.0000 Loss_G: 0.0071 D(x): 0.0000 D(G(z)): 0.0000: 100%|███████████| 857/857 [08:37<00:00,  1.66it/s]\n",
      "  0%|                                                                                          | 0/857 [00:00<?, ?it/s]"
     ]
    },
    {
     "name": "stdout",
     "output_type": "stream",
     "text": [
      "623.125050719579\n",
      "    Loss_D    Loss_G       Score_D       Score_G\n",
      "72     1.0  0.007101  7.511053e-40  4.282940e-39\n"
     ]
    },
    {
     "name": "stderr",
     "output_type": "stream",
     "text": [
      "[73/100] Loss_D: 1.0000 Loss_G: 0.0070 D(x): 0.0000 D(G(z)): 0.0000: 100%|███████████| 857/857 [08:39<00:00,  1.65it/s]\n",
      "  0%|                                                                                          | 0/857 [00:00<?, ?it/s]"
     ]
    },
    {
     "name": "stdout",
     "output_type": "stream",
     "text": [
      "631.7856460332871\n",
      "    Loss_D    Loss_G       Score_D       Score_G\n",
      "73     1.0  0.007033  6.002774e-40  4.465435e-42\n"
     ]
    },
    {
     "name": "stderr",
     "output_type": "stream",
     "text": [
      "[74/100] Loss_D: 1.0000 Loss_G: 0.0072 D(x): 0.0000 D(G(z)): 0.0000: 100%|███████████| 857/857 [08:39<00:00,  1.65it/s]\n",
      "  0%|                                                                                          | 0/857 [00:00<?, ?it/s]"
     ]
    },
    {
     "name": "stdout",
     "output_type": "stream",
     "text": [
      "640.439137172699\n",
      "    Loss_D   Loss_G       Score_D       Score_G\n",
      "74     1.0  0.00717  2.719744e-40  5.660272e-38\n"
     ]
    },
    {
     "name": "stderr",
     "output_type": "stream",
     "text": [
      "[75/100] Loss_D: 1.0000 Loss_G: 0.0070 D(x): 0.0000 D(G(z)): 0.0000: 100%|███████████| 857/857 [08:37<00:00,  1.66it/s]\n",
      "  0%|                                                                                          | 0/857 [00:00<?, ?it/s]"
     ]
    },
    {
     "name": "stdout",
     "output_type": "stream",
     "text": [
      "649.0702028552691\n",
      "    Loss_D    Loss_G       Score_D       Score_G\n",
      "75     1.0  0.006989  5.662208e-42  1.201320e-42\n"
     ]
    },
    {
     "name": "stderr",
     "output_type": "stream",
     "text": [
      "[76/100] Loss_D: 1.0000 Loss_G: 0.0070 D(x): 0.0000 D(G(z)): 0.0000: 100%|███████████| 857/857 [08:39<00:00,  1.65it/s]\n",
      "  0%|                                                                                          | 0/857 [00:00<?, ?it/s]"
     ]
    },
    {
     "name": "stdout",
     "output_type": "stream",
     "text": [
      "657.7342143495878\n",
      "    Loss_D    Loss_G       Score_D       Score_G\n",
      "76     1.0  0.007014  3.830893e-37  1.218882e-37\n"
     ]
    },
    {
     "name": "stderr",
     "output_type": "stream",
     "text": [
      "[77/100] Loss_D: 1.0000 Loss_G: 0.0071 D(x): 0.0000 D(G(z)): 0.0000: 100%|███████████| 857/857 [08:37<00:00,  1.66it/s]\n",
      "  0%|                                                                                          | 0/857 [00:00<?, ?it/s]"
     ]
    },
    {
     "name": "stdout",
     "output_type": "stream",
     "text": [
      "666.3667386611303\n",
      "    Loss_D    Loss_G       Score_D       Score_G\n",
      "77     1.0  0.007062  1.854477e-42  1.161724e-42\n"
     ]
    },
    {
     "name": "stderr",
     "output_type": "stream",
     "text": [
      "[78/100] Loss_D: 1.0000 Loss_G: 0.0070 D(x): 0.0000 D(G(z)): 0.0000: 100%|███████████| 857/857 [08:35<00:00,  1.66it/s]\n",
      "  0%|                                                                                          | 0/857 [00:00<?, ?it/s]"
     ]
    },
    {
     "name": "stdout",
     "output_type": "stream",
     "text": [
      "674.95475080808\n",
      "    Loss_D    Loss_G       Score_D       Score_G\n",
      "78     1.0  0.007027  5.197822e-40  8.443522e-41\n"
     ]
    },
    {
     "name": "stderr",
     "output_type": "stream",
     "text": [
      "[79/100] Loss_D: 1.0000 Loss_G: 0.0075 D(x): 0.0000 D(G(z)): 0.0000: 100%|███████████| 857/857 [08:34<00:00,  1.66it/s]\n",
      "  0%|                                                                                          | 0/857 [00:00<?, ?it/s]"
     ]
    },
    {
     "name": "stdout",
     "output_type": "stream",
     "text": [
      "683.5392203648885\n",
      "    Loss_D    Loss_G       Score_D       Score_G\n",
      "79     1.0  0.007539  1.710229e-39  9.568569e-40\n"
     ]
    },
    {
     "name": "stderr",
     "output_type": "stream",
     "text": [
      "[80/100] Loss_D: 1.0000 Loss_G: 0.0070 D(x): 0.0000 D(G(z)): 0.0000: 100%|███████████| 857/857 [08:34<00:00,  1.66it/s]\n",
      "  0%|                                                                                          | 0/857 [00:00<?, ?it/s]"
     ]
    },
    {
     "name": "stdout",
     "output_type": "stream",
     "text": [
      "692.1222932974498\n",
      "    Loss_D   Loss_G       Score_D       Score_G\n",
      "80     1.0  0.00697  8.723600e-37  3.972778e-36\n"
     ]
    },
    {
     "name": "stderr",
     "output_type": "stream",
     "text": [
      "[81/100] Loss_D: 1.0000 Loss_G: 0.0069 D(x): 0.0000 D(G(z)): 0.0000: 100%|███████████| 857/857 [08:34<00:00,  1.66it/s]\n",
      "  0%|                                                                                          | 0/857 [00:00<?, ?it/s]"
     ]
    },
    {
     "name": "stdout",
     "output_type": "stream",
     "text": [
      "700.7040588378907\n",
      "    Loss_D    Loss_G       Score_D       Score_G\n",
      "81     1.0  0.006936  4.664601e-35  1.156150e-36\n"
     ]
    },
    {
     "name": "stderr",
     "output_type": "stream",
     "text": [
      "[82/100] Loss_D: 1.0000 Loss_G: 0.0069 D(x): 0.0000 D(G(z)): 0.0000: 100%|███████████| 857/857 [08:34<00:00,  1.66it/s]\n",
      "  0%|                                                                                          | 0/857 [00:00<?, ?it/s]"
     ]
    },
    {
     "name": "stdout",
     "output_type": "stream",
     "text": [
      "709.288426844279\n",
      "    Loss_D    Loss_G       Score_D       Score_G\n",
      "82     1.0  0.006947  1.495087e-37  1.848610e-37\n"
     ]
    },
    {
     "name": "stderr",
     "output_type": "stream",
     "text": [
      "[83/100] Loss_D: 1.0000 Loss_G: 0.0070 D(x): 0.0000 D(G(z)): 0.0000: 100%|███████████| 857/857 [08:35<00:00,  1.66it/s]\n",
      "  0%|                                                                                          | 0/857 [00:00<?, ?it/s]"
     ]
    },
    {
     "name": "stdout",
     "output_type": "stream",
     "text": [
      "717.8870487292608\n",
      "    Loss_D    Loss_G       Score_D       Score_G\n",
      "83     1.0  0.006967  1.065988e-40  5.468853e-42\n"
     ]
    },
    {
     "name": "stderr",
     "output_type": "stream",
     "text": [
      "[84/100] Loss_D: 1.0000 Loss_G: 0.0071 D(x): 0.0000 D(G(z)): 0.0000: 100%|███████████| 857/857 [08:35<00:00,  1.66it/s]\n",
      "  0%|                                                                                          | 0/857 [00:00<?, ?it/s]"
     ]
    },
    {
     "name": "stdout",
     "output_type": "stream",
     "text": [
      "726.4765718102456\n",
      "    Loss_D    Loss_G       Score_D       Score_G\n",
      "84     1.0  0.007115  2.034783e-38  6.223612e-40\n"
     ]
    },
    {
     "name": "stderr",
     "output_type": "stream",
     "text": [
      "[85/100] Loss_D: 1.0000 Loss_G: 0.0073 D(x): 0.0000 D(G(z)): 0.0000: 100%|███████████| 857/857 [08:35<00:00,  1.66it/s]\n",
      "  0%|                                                                                          | 0/857 [00:00<?, ?it/s]"
     ]
    },
    {
     "name": "stdout",
     "output_type": "stream",
     "text": [
      "735.0636107683182\n",
      "    Loss_D    Loss_G       Score_D       Score_G\n",
      "85     1.0  0.007314  8.130184e-35  2.862674e-37\n"
     ]
    },
    {
     "name": "stderr",
     "output_type": "stream",
     "text": [
      "[86/100] Loss_D: 1.0000 Loss_G: 0.0070 D(x): 0.0000 D(G(z)): 0.0000: 100%|███████████| 857/857 [08:34<00:00,  1.67it/s]\n",
      "  0%|                                                                                          | 0/857 [00:00<?, ?it/s]"
     ]
    },
    {
     "name": "stdout",
     "output_type": "stream",
     "text": [
      "743.6442161838214\n",
      "    Loss_D    Loss_G       Score_D       Score_G\n",
      "86     1.0  0.006964  8.757572e-39  2.608366e-38\n"
     ]
    },
    {
     "name": "stderr",
     "output_type": "stream",
     "text": [
      "[87/100] Loss_D: 1.0000 Loss_G: 0.0070 D(x): 0.0000 D(G(z)): 0.0000: 100%|███████████| 857/857 [08:34<00:00,  1.66it/s]\n",
      "  0%|                                                                                          | 0/857 [00:00<?, ?it/s]"
     ]
    },
    {
     "name": "stdout",
     "output_type": "stream",
     "text": [
      "752.2282968799274\n",
      "    Loss_D    Loss_G       Score_D       Score_G\n",
      "87     1.0  0.006951  1.910863e-35  2.395875e-33\n"
     ]
    },
    {
     "name": "stderr",
     "output_type": "stream",
     "text": [
      "[88/100] Loss_D: 1.0000 Loss_G: 0.0073 D(x): 0.0000 D(G(z)): 0.0000: 100%|███████████| 857/857 [08:34<00:00,  1.66it/s]\n",
      "  0%|                                                                                          | 0/857 [00:00<?, ?it/s]"
     ]
    },
    {
     "name": "stdout",
     "output_type": "stream",
     "text": [
      "760.8101627707481\n",
      "    Loss_D    Loss_G       Score_D       Score_G\n",
      "88     1.0  0.007253  1.861727e-35  2.254440e-35\n"
     ]
    },
    {
     "name": "stderr",
     "output_type": "stream",
     "text": [
      "[89/100] Loss_D: 1.0000 Loss_G: 0.0070 D(x): 0.0000 D(G(z)): 0.0000: 100%|███████████| 857/857 [08:34<00:00,  1.67it/s]\n",
      "  0%|                                                                                          | 0/857 [00:00<?, ?it/s]"
     ]
    },
    {
     "name": "stdout",
     "output_type": "stream",
     "text": [
      "769.3912366350492\n",
      "    Loss_D    Loss_G       Score_D       Score_G\n",
      "89     1.0  0.006993  1.016775e-33  3.438448e-35\n"
     ]
    },
    {
     "name": "stderr",
     "output_type": "stream",
     "text": [
      "[90/100] Loss_D: 1.0000 Loss_G: 0.0070 D(x): 0.0000 D(G(z)): 0.0000: 100%|███████████| 857/857 [08:34<00:00,  1.66it/s]\n",
      "  0%|                                                                                          | 0/857 [00:00<?, ?it/s]"
     ]
    },
    {
     "name": "stdout",
     "output_type": "stream",
     "text": [
      "777.9735157171885\n",
      "    Loss_D    Loss_G       Score_D       Score_G\n",
      "90     1.0  0.006974  9.736572e-40  1.589997e-37\n"
     ]
    },
    {
     "name": "stderr",
     "output_type": "stream",
     "text": [
      "[91/100] Loss_D: 1.0000 Loss_G: 0.0070 D(x): 0.0000 D(G(z)): 0.0000: 100%|███████████| 857/857 [08:34<00:00,  1.67it/s]\n",
      "  0%|                                                                                          | 0/857 [00:00<?, ?it/s]"
     ]
    },
    {
     "name": "stdout",
     "output_type": "stream",
     "text": [
      "786.5548404852549\n",
      "    Loss_D    Loss_G       Score_D       Score_G\n",
      "91     1.0  0.006985  4.970686e-39  5.295971e-39\n"
     ]
    },
    {
     "name": "stderr",
     "output_type": "stream",
     "text": [
      "[92/100] Loss_D: 1.0000 Loss_G: 0.0072 D(x): 0.0000 D(G(z)): 0.0000: 100%|███████████| 857/857 [08:34<00:00,  1.67it/s]\n",
      "  0%|                                                                                          | 0/857 [00:00<?, ?it/s]"
     ]
    },
    {
     "name": "stdout",
     "output_type": "stream",
     "text": [
      "795.1344719409942\n",
      "    Loss_D   Loss_G       Score_D       Score_G\n",
      "92     1.0  0.00725  1.606499e-39  2.071657e-38\n"
     ]
    },
    {
     "name": "stderr",
     "output_type": "stream",
     "text": [
      "[93/100] Loss_D: 1.0000 Loss_G: 0.0069 D(x): 0.0000 D(G(z)): 0.0000: 100%|███████████| 857/857 [08:34<00:00,  1.67it/s]\n",
      "  0%|                                                                                          | 0/857 [00:00<?, ?it/s]"
     ]
    },
    {
     "name": "stdout",
     "output_type": "stream",
     "text": [
      "803.7159253636996\n",
      "    Loss_D    Loss_G       Score_D       Score_G\n",
      "93     1.0  0.006925  1.054572e-35  3.527393e-37\n"
     ]
    },
    {
     "name": "stderr",
     "output_type": "stream",
     "text": [
      "[94/100] Loss_D: 1.0000 Loss_G: 0.0070 D(x): 0.0000 D(G(z)): 0.0000: 100%|███████████| 857/857 [08:34<00:00,  1.66it/s]\n",
      "  0%|                                                                                          | 0/857 [00:00<?, ?it/s]"
     ]
    },
    {
     "name": "stdout",
     "output_type": "stream",
     "text": [
      "812.2982681473096\n",
      "    Loss_D    Loss_G       Score_D       Score_G\n",
      "94     1.0  0.007027  1.247463e-33  2.401910e-36\n"
     ]
    },
    {
     "name": "stderr",
     "output_type": "stream",
     "text": [
      "[95/100] Loss_D: 1.0000 Loss_G: 0.0070 D(x): 0.0000 D(G(z)): 0.0000: 100%|███████████| 857/857 [08:34<00:00,  1.67it/s]\n",
      "  0%|                                                                                          | 0/857 [00:00<?, ?it/s]"
     ]
    },
    {
     "name": "stdout",
     "output_type": "stream",
     "text": [
      "820.8779244025549\n",
      "    Loss_D    Loss_G       Score_D       Score_G\n",
      "95     1.0  0.007014  7.526986e-38  8.884980e-39\n"
     ]
    },
    {
     "name": "stderr",
     "output_type": "stream",
     "text": [
      "[96/100] Loss_D: 1.0000 Loss_G: 0.0073 D(x): 0.0000 D(G(z)): 0.0000: 100%|███████████| 857/857 [08:34<00:00,  1.67it/s]\n",
      "  0%|                                                                                          | 0/857 [00:00<?, ?it/s]"
     ]
    },
    {
     "name": "stdout",
     "output_type": "stream",
     "text": [
      "829.459285457929\n",
      "    Loss_D    Loss_G       Score_D       Score_G\n",
      "96     1.0  0.007303  1.297373e-35  4.794808e-38\n"
     ]
    },
    {
     "name": "stderr",
     "output_type": "stream",
     "text": [
      "[97/100] Loss_D: 1.0000 Loss_G: 0.0070 D(x): 0.0000 D(G(z)): 0.0000: 100%|███████████| 857/857 [08:34<00:00,  1.67it/s]\n",
      "  0%|                                                                                          | 0/857 [00:00<?, ?it/s]"
     ]
    },
    {
     "name": "stdout",
     "output_type": "stream",
     "text": [
      "838.0404432376225\n",
      "    Loss_D    Loss_G       Score_D       Score_G\n",
      "97     1.0  0.006974  4.409642e-38  4.813633e-39\n"
     ]
    },
    {
     "name": "stderr",
     "output_type": "stream",
     "text": [
      "[98/100] Loss_D: 1.0000 Loss_G: 0.0070 D(x): 0.0000 D(G(z)): 0.0000: 100%|███████████| 857/857 [08:34<00:00,  1.66it/s]\n",
      "  0%|                                                                                          | 0/857 [00:00<?, ?it/s]"
     ]
    },
    {
     "name": "stdout",
     "output_type": "stream",
     "text": [
      "846.6245616396268\n",
      "    Loss_D    Loss_G       Score_D       Score_G\n",
      "98     1.0  0.006964  2.982728e-38  4.789038e-38\n"
     ]
    },
    {
     "name": "stderr",
     "output_type": "stream",
     "text": [
      "[99/100] Loss_D: 1.0000 Loss_G: 0.0070 D(x): 0.0000 D(G(z)): 0.0000: 100%|███████████| 857/857 [08:34<00:00,  1.66it/s]\n",
      "  0%|                                                                                          | 0/857 [00:00<?, ?it/s]"
     ]
    },
    {
     "name": "stdout",
     "output_type": "stream",
     "text": [
      "855.2097539186477\n",
      "    Loss_D    Loss_G       Score_D       Score_G\n",
      "99     1.0  0.006993  9.708096e-37  1.641413e-39\n"
     ]
    },
    {
     "name": "stderr",
     "output_type": "stream",
     "text": [
      "[100/100] Loss_D: 1.0000 Loss_G: 0.0077 D(x): 0.0000 D(G(z)): 0.0000: 100%|██████████| 857/857 [08:34<00:00,  1.66it/s]\n"
     ]
    },
    {
     "name": "stdout",
     "output_type": "stream",
     "text": [
      "863.7931285421054\n",
      "     Loss_D    Loss_G       Score_D       Score_G\n",
      "100     1.0  0.007719  8.219122e-39  2.716296e-39\n",
      "mins:  863.7946622212728\n"
     ]
    }
   ],
   "source": [
    "from math import log10\n",
    "import argparse\n",
    "\n",
    "import torch.utils.data\n",
    "import torchvision.utils as utils\n",
    "from torch.autograd import Variable\n",
    "from torch.utils.data import DataLoader \n",
    "from tqdm import tqdm\n",
    "import torch\n",
    "from PIL import Image\n",
    "from torchvision.transforms import ToTensor, ToPILImage\n",
    "\n",
    "\n",
    "from pytorch_msssim import ssim, ms_ssim, SSIM, MS_SSIM\n",
    "import time\n",
    "\n",
    "s = time.time()\n",
    "\n",
    "# torch.autograd.set_detect_anomaly(True)\n",
    "if __name__ == \"__main__\":\n",
    "    CROP_SIZE = 88\n",
    "    UPSCALE_FACTOR = 2\n",
    "    NUM_EPOCHS = 1000\n",
    "    out_path = 'training_results/SRF_' + str(UPSCALE_FACTOR) + '/'\n",
    "    \n",
    "    train_set = TrainDatasetFromFolder('F:/CelebAMask-HQ/VOCdevkit/VOC2012/JPEGImages', crop_size = CROP_SIZE, upscale_factor=UPSCALE_FACTOR)\n",
    "    val_set = ValDatasetFromFolder('F:/CelebAMask-HQ/cacatest', upscale_factor=UPSCALE_FACTOR)\n",
    "    train_loader = DataLoader(dataset=train_set, num_workers=0,batch_size=20,shuffle=True)\n",
    "    val_loader = DataLoader(dataset=val_set, num_workers=0, batch_size=1, shuffle=False)\n",
    "    \n",
    "    \n",
    "    optimizerG = torch.optim.Adam(netG.parameters())\n",
    "    optimizerD = torch.optim.Adam(netD.parameters())\n",
    "    \n",
    "    results = {'d_loss': [], 'g_loss': [], 'd_score': [], 'g_score': [], 'psnr': [], 'ssim': []}\n",
    "    \n",
    "    for epoch in range(1, NUM_EPOCHS + 1):\n",
    "        train_bar = tqdm(train_loader)\n",
    "        running_results = {'batch_sizes': 0, 'd_loss': 0, 'g_loss': 0, 'd_score': 0, 'g_score': 0}\n",
    "        \n",
    "        netG.train()\n",
    "        netD.train()\n",
    "        for data, target in train_bar:\n",
    "            g_update_first = True\n",
    "            batch_size = data.size(0)\n",
    "            running_results['batch_sizes'] += batch_size\n",
    "            \n",
    "            real_img = Variable(target)\n",
    "            if torch.cuda.is_available():\n",
    "                real_img = real_img.cuda()\n",
    "            z = Variable(data)\n",
    "            if torch.cuda.is_available():\n",
    "                z = z.cuda()\n",
    "            fake_img = netG(z)\n",
    "            \n",
    "            #UPDATE D network\n",
    "            netD.zero_grad()\n",
    "            real_out = netD(real_img).mean()\n",
    "            fake_out = netD(fake_img).mean()\n",
    "            d_loss = 1 - real_out + fake_out\n",
    "            d_loss.backward(retain_graph=True)\n",
    "            \n",
    "            \n",
    "            #UPDATE G network\n",
    "            netG.zero_grad()\n",
    "            g_loss = generator_criterion(fake_out, fake_img, real_img)\n",
    "            g_loss.backward()\n",
    "            \n",
    "            fake_img = netG(z)\n",
    "            fake_out = netD(fake_img).mean()\n",
    "            \n",
    "            optimizerG.step()\n",
    "            \n",
    "            \n",
    "            optimizerD.step()\n",
    "            \n",
    "            #loss for current batch before oprimization\n",
    "            running_results['g_loss'] += g_loss.item() * batch_size\n",
    "            running_results['d_loss'] += d_loss.item() * batch_size\n",
    "            running_results['d_score'] += real_out.item() * batch_size\n",
    "            running_results['g_score'] += fake_out.item() * batch_size\n",
    "            \n",
    "            train_bar.set_description(desc='[%d/%d] Loss_D: %.4f Loss_G: %.4f D(x): %.4f D(G(z)): %.4f' % (\n",
    "                epoch, NUM_EPOCHS, running_results['d_loss'] / running_results['batch_sizes'],\n",
    "                running_results['g_loss'] / running_results['batch_sizes'],\n",
    "                running_results['d_score'] / running_results['batch_sizes'],\n",
    "                running_results['g_score'] / running_results['batch_sizes']))\n",
    "#             print(f'g loss: {running_results[\"g_loss\"]} g score: {running_results[\"g_score\"]}  d loss: {running_results[\"d_loss\"]}  d score: {running_results[\"d_score\"]}')\n",
    "    \n",
    "        netG.eval()\n",
    "        if not os.path.exists(out_path):\n",
    "            os.makedirs(out_path)\n",
    "\n",
    "        with torch.no_grad():\n",
    "            image = Image.open('testam.jpg')\n",
    "            image = Variable(ToTensor()(image)).unsqueeze(0)\n",
    "            image = image.cuda()\n",
    "            out = netG(image)\n",
    "            \n",
    "            out_img = ToPILImage()(out[0].data.cpu())\n",
    "            out_img.save('test/testam.jpg')\n",
    "            \n",
    "            print((time.time()-s)/60)\n",
    "#             val_bar = tqdm(val_loader)\n",
    "#             valing_results = {'mse': 0, 'ssims': 0, 'psnr': 0, 'ssim': 0, 'batch_sizes': 0}\n",
    "# #             val_images = []\n",
    "#             for val_lr, val_hr_restore, val_hr in val_bar:\n",
    "#                 batch_size = val_lr.size(0)\n",
    "#                 valing_results['batch_sizes'] += batch_size\n",
    "#                 lr = val_lr\n",
    "#                 hr = val_hr\n",
    "#                 if torch.cuda.is_available():\n",
    "#                     lr = lr.cuda()\n",
    "#                     hr = hr.cuda()\n",
    "#                 sr = netG(lr)\n",
    "\n",
    "#                 batch_mse = ((sr - hr) ** 2).data.mean()\n",
    "#                 valing_results['mse'] += batch_mse * batch_size\n",
    "# #                 batch_ssim = ssim(sr, hr).item()\n",
    "# #                 valing_results['ssims'] += batch_ssim * batch_size\n",
    "#                 valing_results['psnr'] = 10 * log10((hr.max()**2) / (valing_results['mse'] / valing_results['batch_sizes']))\n",
    "#                 valing_results['ssim'] = valing_results['ssims'] / valing_results['batch_sizes']\n",
    "#                 val_bar.set_description(\n",
    "#                     desc='[converting LR images to SR images] PSNR: %.4f dB SSIM: %.4f' % (\n",
    "#                         valing_results['psnr'], valing_results['ssim']))\n",
    "# #                 val_images.extend(\n",
    "# #                     [display_transform()(val_hr_restore.squeeze(0)), display_transform()(hr.data.cpu().squeeze(0)),\n",
    "# #                      display_transform()(sr.data.cpu().squeeze(0))])\n",
    "# #             val_images = torch.stack(val_images)\n",
    "# #             val_images = torch.chunk(val_images,val_images.size(0) // 1)\n",
    "# #             val_save_bar = tqdm(val_images, desc='savin training results')\n",
    "# #             index = 1\n",
    "# #             for image in val_images:\n",
    "# #                 image = utils.make_grid(image, nrow=3,padding=5)\n",
    "# #                 utils.save_image(image, out_path + 'epoch_%d_index_%d.png' % (epoch, index), padding=5)\n",
    "# #                 index += 1\n",
    "                \n",
    "    \n",
    "        torch.save(netG.state_dict(), 'modele/netG_epoch.pth')\n",
    "        torch.save(netD.state_dict(), 'modele/netD_epoch.pth')\n",
    "\n",
    "        results['d_loss'].append(running_results['d_loss'] / running_results['batch_sizes'])\n",
    "        results['g_loss'].append(running_results['g_loss'] / running_results['batch_sizes'])\n",
    "        results['d_score'].append(running_results['d_score'] / running_results['batch_sizes'])\n",
    "        results['g_score'].append(running_results['g_score'] / running_results['batch_sizes'])\n",
    "#         results['psnr'].append(valing_results['psnr'])\n",
    "#         results['ssim'].append(valing_results['ssim'])\n",
    "\n",
    "#         if epoch % 1 == 0 and epoch != 0:\n",
    "#             out_path = 'statistics/'\n",
    "        data_frame = pd.DataFrame(\n",
    "            data={'Loss_D': results['d_loss'], 'Loss_G': results['g_loss'], 'Score_D': results['d_score'],\n",
    "                  'Score_G': results['g_score']},\n",
    "                index=range(1, epoch + 1))\n",
    "#                 data_frame.to_csv(out_path + 'srf_' + str(UPSCALE_FACTOR) + '_train_results.csv', index_label='Epoch')\n",
    "        print(data_frame.iloc[[-1]])\n",
    "\n",
    "print(f'mins:  {(time.time()-s)/60}')"
   ]
  },
  {
   "cell_type": "code",
   "execution_count": 5,
   "metadata": {},
   "outputs": [],
   "source": [
    "# TEST\n",
    "import argparse\n",
    "import time\n",
    "\n",
    "import torch\n",
    "from PIL import Image\n",
    "from torch.autograd import Variable\n",
    "from torchvision.transforms import ToTensor, ToPILImage\n",
    "\n",
    "UPSCALE_FACTOR = 2\n",
    "TEST_MODE = True\n",
    "IMAGE_NAME = 'puff.jpg'\n",
    "MODEL_NAME = 'netG_epoch.pth'\n",
    "\n",
    "model = Generator(UPSCALE_FACTOR).eval()\n",
    "model.cuda()\n",
    "model.load_state_dict(torch.load('modele/' + MODEL_NAME))\n",
    "\n",
    "image = Image.open(IMAGE_NAME)\n",
    "image = Variable(transforms.ToTensor()(image)).unsqueeze(0)\n",
    "image = image.cuda()\n",
    "\n",
    "with torch.no_grad():\n",
    "    out = model(image)\n",
    "    \n",
    "out_img = ToPILImage()(out[0].data.cpu())\n",
    "out_img.save('test/' + str('20') + '_' + IMAGE_NAME)"
   ]
  },
  {
   "cell_type": "code",
   "execution_count": 26,
   "metadata": {},
   "outputs": [
    {
     "name": "stdout",
     "output_type": "stream",
     "text": [
      "1662\n"
     ]
    }
   ],
   "source": [
    "# path = 'F:/CelebAMask-HQ/VOCdevkit/VOC2012/JPEGImages'\n",
    "# img_names = []\n",
    "\n",
    "# for folder,subfolders,filenames in os.walk(path):\n",
    "#     for img in filenames:\n",
    "#         img_names.append(folder+'/'+img)\n",
    "        \n",
    "# len(img_names)\n",
    "\n",
    "# img_sizes = []\n",
    "# rejected = []\n",
    "\n",
    "# for item in img_names:\n",
    "#     try:\n",
    "#         with Image.open(item) as img:\n",
    "#             img_sizes.append(img.size)\n",
    "            \n",
    "#     except:\n",
    "#         rejected.append(item)\n",
    "        \n",
    "# df = pd.DataFrame(img_sizes)\n",
    "# x = 0\n",
    "# for i, row in df.iterrows():\n",
    "#     if row[1] < 88:\n",
    "#         print(i)"
   ]
  },
  {
   "cell_type": "code",
   "execution_count": 6,
   "metadata": {},
   "outputs": [
    {
     "data": {
      "text/html": [
       "<div>\n",
       "<style scoped>\n",
       "    .dataframe tbody tr th:only-of-type {\n",
       "        vertical-align: middle;\n",
       "    }\n",
       "\n",
       "    .dataframe tbody tr th {\n",
       "        vertical-align: top;\n",
       "    }\n",
       "\n",
       "    .dataframe thead th {\n",
       "        text-align: right;\n",
       "    }\n",
       "</style>\n",
       "<table border=\"1\" class=\"dataframe\">\n",
       "  <thead>\n",
       "    <tr style=\"text-align: right;\">\n",
       "      <th></th>\n",
       "      <th>a</th>\n",
       "      <th>b</th>\n",
       "      <th>c</th>\n",
       "      <th>d</th>\n",
       "    </tr>\n",
       "  </thead>\n",
       "  <tbody>\n",
       "    <tr>\n",
       "      <th>2</th>\n",
       "      <td>1000</td>\n",
       "      <td>2000</td>\n",
       "      <td>3000</td>\n",
       "      <td>4000</td>\n",
       "    </tr>\n",
       "  </tbody>\n",
       "</table>\n",
       "</div>"
      ],
      "text/plain": [
       "      a     b     c     d\n",
       "2  1000  2000  3000  4000"
      ]
     },
     "execution_count": 6,
     "metadata": {},
     "output_type": "execute_result"
    }
   ],
   "source": []
  },
  {
   "cell_type": "code",
   "execution_count": null,
   "metadata": {},
   "outputs": [],
   "source": []
  }
 ],
 "metadata": {
  "kernelspec": {
   "display_name": "Python 3",
   "language": "python",
   "name": "python3"
  },
  "language_info": {
   "codemirror_mode": {
    "name": "ipython",
    "version": 3
   },
   "file_extension": ".py",
   "mimetype": "text/x-python",
   "name": "python",
   "nbconvert_exporter": "python",
   "pygments_lexer": "ipython3",
   "version": "3.7.3"
  }
 },
 "nbformat": 4,
 "nbformat_minor": 4
}
